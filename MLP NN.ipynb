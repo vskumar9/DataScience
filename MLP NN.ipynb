{
 "cells": [
  {
   "cell_type": "code",
   "execution_count": 2,
   "id": "26524add",
   "metadata": {},
   "outputs": [],
   "source": [
    "import numpy as np\n",
    "import pandas as pd\n",
    "import matplotlib.pyplot as plt\n",
    "\n",
    "x=np.vstack([(np.random.rand(10,2)*5),(np.random.rand(10,2)*10)])\n",
    "y=np.hstack([[0]*10,[1]*10])"
   ]
  },
  {
   "cell_type": "code",
   "execution_count": 3,
   "id": "8a261ae5",
   "metadata": {},
   "outputs": [],
   "source": [
    "z=np.zeros((20,2))\n",
    "for i in range(20):\n",
    "    z[i,y[i]]=1"
   ]
  },
  {
   "cell_type": "code",
   "execution_count": 5,
   "id": "90bca7d2",
   "metadata": {},
   "outputs": [
    {
     "name": "stdout",
     "output_type": "stream",
     "text": [
      "weight 1 matrix:\n",
      " [[0.13039861 0.74820267]\n",
      " [0.74463629 0.71685689]\n",
      " [0.1789568  0.17391438]]\n",
      "bias 1 matrix:\n",
      " [0.6568188  0.95730544 0.3457761 ]\n",
      "weight 2 matrix:\n",
      " [[0.4957211  0.54203442]\n",
      " [0.20901981 0.44083087]\n",
      " [0.62073116 0.38650035]]\n",
      "bias 2 matrix:\n",
      " [0.28696366 0.52997591]\n"
     ]
    }
   ],
   "source": [
    "wi_1=np.random.rand(3,2)\n",
    "bi_1=np.random.rand(3)\n",
    "wi_2=np.random.rand(3,2)\n",
    "bi_2=np.random.rand(2)\n",
    "\n",
    "print(\"weight 1 matrix:\\n\",wi_1)\n",
    "print(\"bias 1 matrix:\\n\",bi_1)\n",
    "print(\"weight 2 matrix:\\n\",wi_2)\n",
    "print(\"bias 2 matrix:\\n\",bi_2)"
   ]
  },
  {
   "cell_type": "code",
   "execution_count": 6,
   "id": "b2f73f80",
   "metadata": {},
   "outputs": [
    {
     "name": "stdout",
     "output_type": "stream",
     "text": [
      "          x1        x2  y\n",
      "0   4.931556  3.844834  0\n",
      "1   3.579263  3.692631  0\n",
      "2   2.057331  0.979313  0\n",
      "3   4.545950  3.853409  0\n",
      "4   0.967080  0.797018  0\n",
      "5   0.487472  2.213211  0\n",
      "6   1.635708  0.507870  0\n",
      "7   0.160659  2.599425  0\n",
      "8   0.798914  4.674188  0\n",
      "9   4.505162  2.779885  0\n",
      "10  3.146542  2.698094  1\n",
      "11  8.547763  3.021387  1\n",
      "12  4.040706  3.266827  1\n",
      "13  7.169394  5.606163  1\n",
      "14  9.662420  5.784971  1\n",
      "15  7.017671  5.005263  1\n",
      "16  4.126132  2.891522  1\n",
      "17  2.355350  9.673338  1\n",
      "18  6.120126  0.251465  1\n",
      "19  5.118637  5.994089  1\n"
     ]
    }
   ],
   "source": [
    "dataSet = pd.DataFrame(x, columns=(\"x1\",\"x2\"))\n",
    "dataSet[\"y\"]=y\n",
    "print(dataSet)"
   ]
  },
  {
   "cell_type": "code",
   "execution_count": 7,
   "id": "5f68c618",
   "metadata": {},
   "outputs": [],
   "source": [
    "def mlp(z,wi_1,bi_1,wi_2,bi_2):\n",
    "    m=1/(1+np.exp(-(x.dot(wi_1.T)-bi_1)))\n",
    "    A=m.dot(wi_2)+bi_2\n",
    "    expA=np.exp(A)\n",
    "    yy=expA/expA.sum(axis=1,keepdims=True)\n",
    "    return yy,m"
   ]
  },
  {
   "cell_type": "code",
   "execution_count": 8,
   "id": "fd31de85",
   "metadata": {},
   "outputs": [
    {
     "data": {
      "text/plain": [
       "(array([[0.41643492, 0.58356508],\n",
       "        [0.41420184, 0.58579816],\n",
       "        [0.41994501, 0.58005499],\n",
       "        [0.41584286, 0.58415714],\n",
       "        [0.42876234, 0.57123766],\n",
       "        [0.42017865, 0.57982135],\n",
       "        [0.42623424, 0.57376576],\n",
       "        [0.41943358, 0.58056642],\n",
       "        [0.41194485, 0.58805515],\n",
       "        [0.41478771, 0.58521229],\n",
       "        [0.41325897, 0.58674103],\n",
       "        [0.42072082, 0.57927918],\n",
       "        [0.41448701, 0.58551299],\n",
       "        [0.42153296, 0.57846704],\n",
       "        [0.42403342, 0.57596658],\n",
       "        [0.42073194, 0.57926806],\n",
       "        [0.41433955, 0.58566045],\n",
       "        [0.42038416, 0.57961584],\n",
       "        [0.41694765, 0.58305235],\n",
       "        [0.41942223, 0.58057777]]),\n",
       " array([[0.94598498, 0.99581104, 0.76948958],\n",
       "        [0.92908701, 0.9873208 , 0.718485  ],\n",
       "        [0.58520523, 0.78188494, 0.5480299 ],\n",
       "        [0.94369912, 0.99445951, 0.75729675],\n",
       "        [0.51639864, 0.5827725 , 0.49147641],\n",
       "        [0.74320182, 0.72953007, 0.53155042],\n",
       "        [0.48412148, 0.65130301, 0.50881677],\n",
       "        [0.78735041, 0.73608977, 0.53371187],\n",
       "        [0.95000757, 0.95204362, 0.64796441],\n",
       "        [0.8819019 , 0.98775335, 0.71988982],\n",
       "        [0.85473196, 0.96510426, 0.66520044],\n",
       "        [0.93810411, 0.99948641, 0.84675413],\n",
       "        [0.91005713, 0.98779222, 0.72020607],\n",
       "        [0.98871136, 0.99977521, 0.87126923],\n",
       "        [0.99283587, 0.9999691 , 0.91602076],\n",
       "        [0.9820707 , 0.99961287, 0.85576736],\n",
       "        [0.88540769, 0.98504983, 0.71002398],\n",
       "        [0.99898102, 0.99956118, 0.85296683],\n",
       "        [0.58160942, 0.97769151, 0.68851704],\n",
       "        [0.98896337, 0.99921663, 0.83378551]]))"
      ]
     },
     "execution_count": 8,
     "metadata": {},
     "output_type": "execute_result"
    }
   ],
   "source": [
    "mlp(x,wi_1,bi_1,wi_2,bi_2)"
   ]
  },
  {
   "cell_type": "code",
   "execution_count": 19,
   "id": "69226e3b",
   "metadata": {},
   "outputs": [],
   "source": [
    "def diff_wi_2(H,Z,Y):\n",
    "    return H.T.dot(Z-Y)\n",
    "def diff_wi_1(x,H,Z,output,wi_2):\n",
    "    dz=(Z-output).dot(wi_2.T)*H*(1-H)\n",
    "    return x.T.dot(dz)\n",
    "def diff_bi_2(Z,Y):\n",
    "    return (Z-Y).sum(axis=0)\n",
    "def diff_bi_1(Z,Y,wi_2,H):\n",
    "    return (Z-Y).dot(wi_2.T)*H*(1-H).sum(axis=0)\n"
   ]
  },
  {
   "cell_type": "code",
   "execution_count": 21,
   "id": "07313e33",
   "metadata": {},
   "outputs": [],
   "source": [
    "l_rate=1e-3\n",
    "\n",
    "for epoch in range(5000):\n",
    "    output,hidden = mlp(x,wi_1,bi_1,wi_2,bi_2)\n",
    "    wi_2 =wi_2+l_rate*diff_wi_2(hidden,z,output)\n",
    "    bi_2 =bi_2+l_rate*diff_bi_2(z,output)\n",
    "    wi_1 =wi_1+l_rate*diff_wi_1(x,hidden,z,output,wi_2).T\n",
    "    bi_1 =bi_1+l_rate*diff_bi_1(z,output,wi_2,hidden)\n",
    "    "
   ]
  },
  {
   "cell_type": "code",
   "execution_count": 27,
   "id": "8b93de9e",
   "metadata": {},
   "outputs": [],
   "source": [
    "x_test = np.array([9,18])"
   ]
  },
  {
   "cell_type": "code",
   "execution_count": 30,
   "id": "1e34d08d",
   "metadata": {},
   "outputs": [
    {
     "name": "stdout",
     "output_type": "stream",
     "text": [
      "Prediction of class1:  [0.02384972 0.02615026] \n",
      "Prediction of class2:  [0.02384972 0.02615026]\n",
      "Error: x_test and y have different shapes\n"
     ]
    },
    {
     "data": {
      "image/png": "[encoded data removed]",
      "text/plain": [
       "<Figure size 432x288 with 1 Axes>"
      ]
     },
     "metadata": {
      "needs_background": "light"
     },
     "output_type": "display_data"
    }
   ],
   "source": [
    "hidden_output = 1/(1+np.exp(-x_test.dot(wi_1.T)-bi_1))\n",
    "output_output = hidden_output.dot(wi_2)+bi_2\n",
    "expA=np.exp(output_output)\n",
    "y=expA/expA.sum()\n",
    "print(\"Prediction of class1: \",y[0],\"\\nPrediction of class2: \",y[1])\n",
    "plt.plot(dataSet,label=\"Inline label\")\n",
    "plt.legend([\"x2\",\"x1\",\"y\"])\n",
    "if x_test.shape == y.shape:\n",
    "    plt.scatter(x_test, y, color=\"red\", marker=\"^\")\n",
    "    plt.show()\n",
    "else:\n",
    "    print(\"Error: x_test and y have different shapes\")\n"
   ]
  },
  {
   "cell_type": "code",
   "execution_count": null,
   "id": "d0b0bd14",
   "metadata": {},
   "outputs": [],
   "source": []
  },
  {
   "cell_type": "code",
   "execution_count": null,
   "id": "b21ded5e",
   "metadata": {},
   "outputs": [],
   "source": []
  },
  {
   "cell_type": "code",
   "execution_count": null,
   "id": "f85b88cc",
   "metadata": {},
   "outputs": [],
   "source": []
  },
  {
   "cell_type": "code",
   "execution_count": null,
   "id": "68810698",
   "metadata": {},
   "outputs": [],
   "source": []
  },
  {
   "cell_type": "code",
   "execution_count": null,
   "id": "bff8b810",
   "metadata": {},
   "outputs": [],
   "source": []
  },
  {
   "cell_type": "code",
   "execution_count": null,
   "id": "4381a87f",
   "metadata": {},
   "outputs": [],
   "source": []
  },
  {
   "cell_type": "code",
   "execution_count": null,
   "id": "94a1b06d",
   "metadata": {},
   "outputs": [],
   "source": []
  }
 ],
 "metadata": {
  "kernelspec": {
   "display_name": "Python 3 (ipykernel)",
   "language": "python",
   "name": "python3"
  },
  "language_info": {
   "codemirror_mode": {
    "name": "ipython",
    "version": 3
   },
   "file_extension": ".py",
   "mimetype": "text/x-python",
   "name": "python",
   "nbconvert_exporter": "python",
   "pygments_lexer": "ipython3",
   "version": "3.9.7"
  }
 },
 "nbformat": 4,
 "nbformat_minor": 5
}
